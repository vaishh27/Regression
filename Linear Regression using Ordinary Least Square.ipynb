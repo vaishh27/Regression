{
 "cells": [
  {
   "cell_type": "markdown",
   "metadata": {},
   "source": [
    "# Vaishnavi Shinde -1132200485"
   ]
  },
  {
   "cell_type": "code",
   "execution_count": null,
   "metadata": {},
   "outputs": [],
   "source": [
    "#Create a random dataset of 50 points. (Hint: x random no. between 1 to 100,y can be generated using a linear equation in x + random seed component).\n",
    "#Estimate 𝛽coefficients using Ordinary Least Square method. Display the fitted linear equation.\n",
    "#Plot the graph along with the fitted line using Matplotlib"
   ]
  },
  {
   "cell_type": "code",
   "execution_count": 75,
   "metadata": {},
   "outputs": [
    {
     "name": "stdout",
     "output_type": "stream",
     "text": [
      "[26.229825316626933, 77.99104595151118, 5.637308935866472, 32.53241603324166, 57.998442212148824, 78.88108615955599, 85.00646371201373, 24.07986877822719, 34.60845588578726, 26.969550538643688, 7.937083432800165, 89.7299281517912, 47.12290287897764, 32.56900182505782, 66.11734983736977, 82.58577066095592, 85.18877471573106, 32.99788335212638, 92.72281373308685, 29.80106316437205, 5.445777651565168, 85.65083807618343, 52.788579909004895, 80.23404802629459, 43.29132887573891, 11.608394089093675, 4.403137280375159, 73.41663841426195, 20.469179691698038, 20.840064184892725, 55.255678634731865, 11.154946097782963, 96.73894224136785, 93.98954777310145, 49.6969742881136, 89.10956610440651, 85.52602723324968, 29.029049643784425, 90.87530779431017, 1.1568209180610722, 13.159435837858897, 14.176470292990313, 86.94760663633753, 64.40744530414625, 63.34280589381119, 83.92009060945932, 27.743510157589085, 41.83039953855484, 23.98742396586491, 69.56658706930689]\n"
     ]
    }
   ],
   "source": [
    "import numpy as np\n",
    "import matplotlib as matplt\n",
    "import random\n",
    "randomlist=[]\n",
    "for i in range (1,51):\n",
    "    a=random.uniform(1,100)\n",
    "    randomlist.append(a)\n",
    "print(randomlist)"
   ]
  },
  {
   "cell_type": "code",
   "execution_count": 76,
   "metadata": {},
   "outputs": [
    {
     "data": {
      "image/png": "[encoded data removed]",
      "text/plain": [
       "<Figure size 432x288 with 1 Axes>"
      ]
     },
     "metadata": {
      "needs_background": "light"
     },
     "output_type": "display_data"
    }
   ],
   "source": [
    "import numpy as np\n",
    "import matplotlib.pyplot as plt\n",
    "x=np.random.randint(100,size=50)\n",
    "y=5*x+np.random.randint(100,size=50)\n",
    "plt.scatter(x,y,color='g')\n",
    "plt.xlabel('x')\n",
    "plt.ylabel('y')\n",
    "plt.show()"
   ]
  },
  {
   "cell_type": "code",
   "execution_count": 77,
   "metadata": {},
   "outputs": [
    {
     "name": "stdout",
     "output_type": "stream",
     "text": [
      "meanx= 44.24\n",
      "meany= 269.72\n",
      "51.45942282713065 4.933557350200483\n"
     ]
    }
   ],
   "source": [
    "def compute_betacoeff(x, y):\n",
    "\n",
    "        n=np.size(x)\n",
    "        meanx, meany =np.mean(x), np.mean(y)\n",
    "        print(\"meanx=\",meanx)\n",
    "        print(\"meany=\",meany)\n",
    "        covxy= 0.0\n",
    "        varxy= 0.0\n",
    "        for i in range(n):\n",
    "            covxy+= ((x[i]-meanx)*(y[i] -meany))\n",
    "            varxy+= ((x[i]-meanx)*(x[i] -meany))\n",
    "        # calculating regression coefficients\n",
    "        b_1 = covxy/varxy\n",
    "        b_0 = meany-b_1*meanx\n",
    "        return(b_0, b_1)\n",
    "b0,b1=compute_betacoeff(x,y)\n",
    "print(b0,b1)\n"
   ]
  },
  {
   "cell_type": "code",
   "execution_count": 78,
   "metadata": {},
   "outputs": [
    {
     "data": {
      "text/plain": [
       "<function matplotlib.pyplot.show(close=None, block=None)>"
      ]
     },
     "execution_count": 78,
     "metadata": {},
     "output_type": "execute_result"
    },
    {
     "data": {
      "image/png": "[encoded data removed]",
      "text/plain": [
       "<Figure size 432x288 with 1 Axes>"
      ]
     },
     "metadata": {
      "needs_background": "light"
     },
     "output_type": "display_data"
    }
   ],
   "source": [
    "y_pred=b0+b1*x\n",
    "plt.scatter(x,y,color='green')\n",
    "plt.plot(x,y_pred,color='red',linewidth=2)\n",
    "plt.title('X vs Y regression fit')\n",
    "plt.xlabel('X')\n",
    "plt.ylabel('Y')\n",
    "plt.show"
   ]
  },
  {
   "cell_type": "code",
   "execution_count": null,
   "metadata": {},
   "outputs": [],
   "source": [
    "# Read a simple dataset (Yield vs Temperature) from a . csv file using Python API (you may use csv or pandas functions). \n",
    "#Perform Linear regression analysis using Ordinary Least Square method. Display the fitted linear equation. \n",
    "#Plot the graph along with the fitted line using Matplotlib"
   ]
  },
  {
   "cell_type": "code",
   "execution_count": 79,
   "metadata": {},
   "outputs": [],
   "source": [
    "%config IPCompleter.greedy=True"
   ]
  },
  {
   "cell_type": "code",
   "execution_count": 84,
   "metadata": {},
   "outputs": [
    {
     "data": {
      "text/plain": [
       "'C:\\\\Users\\\\svais\\\\opencv\\\\Scripts'"
      ]
     },
     "execution_count": 84,
     "metadata": {},
     "output_type": "execute_result"
    }
   ],
   "source": [
    "%pwd"
   ]
  },
  {
   "cell_type": "code",
   "execution_count": 85,
   "metadata": {},
   "outputs": [
    {
     "name": "stdout",
     "output_type": "stream",
     "text": [
      "D:\\NOTES\\Lab on ML\\Lab On ML PRAC\n"
     ]
    }
   ],
   "source": [
    "%cd D:\\\\NOTES\\\\Lab on ML\\\\Lab On ML PRAC"
   ]
  },
  {
   "cell_type": "code",
   "execution_count": 86,
   "metadata": {},
   "outputs": [
    {
     "data": {
      "text/plain": [
       "'D:\\\\NOTES\\\\Lab on ML\\\\Lab On ML PRAC'"
      ]
     },
     "execution_count": 86,
     "metadata": {},
     "output_type": "execute_result"
    }
   ],
   "source": [
    "%pwd"
   ]
  },
  {
   "cell_type": "code",
   "execution_count": 87,
   "metadata": {},
   "outputs": [],
   "source": [
    "import pandas as pd"
   ]
  },
  {
   "cell_type": "code",
   "execution_count": 88,
   "metadata": {},
   "outputs": [],
   "source": [
    "df=pd.read_csv(r'./Datasets/Yield_vs_Temperature.csv')"
   ]
  },
  {
   "cell_type": "code",
   "execution_count": 89,
   "metadata": {},
   "outputs": [
    {
     "data": {
      "text/html": [
       "<div>\n",
       "<style scoped>\n",
       "    .dataframe tbody tr th:only-of-type {\n",
       "        vertical-align: middle;\n",
       "    }\n",
       "\n",
       "    .dataframe tbody tr th {\n",
       "        vertical-align: top;\n",
       "    }\n",
       "\n",
       "    .dataframe thead th {\n",
       "        text-align: right;\n",
       "    }\n",
       "</style>\n",
       "<table border=\"1\" class=\"dataframe\">\n",
       "  <thead>\n",
       "    <tr style=\"text-align: right;\">\n",
       "      <th></th>\n",
       "      <th>Observation Number</th>\n",
       "      <th>Temperature (Xi)</th>\n",
       "      <th>Yield (Yi)</th>\n",
       "    </tr>\n",
       "  </thead>\n",
       "  <tbody>\n",
       "    <tr>\n",
       "      <th>0</th>\n",
       "      <td>1</td>\n",
       "      <td>50</td>\n",
       "      <td>122</td>\n",
       "    </tr>\n",
       "    <tr>\n",
       "      <th>1</th>\n",
       "      <td>2</td>\n",
       "      <td>53</td>\n",
       "      <td>118</td>\n",
       "    </tr>\n",
       "    <tr>\n",
       "      <th>2</th>\n",
       "      <td>3</td>\n",
       "      <td>54</td>\n",
       "      <td>128</td>\n",
       "    </tr>\n",
       "    <tr>\n",
       "      <th>3</th>\n",
       "      <td>4</td>\n",
       "      <td>55</td>\n",
       "      <td>121</td>\n",
       "    </tr>\n",
       "    <tr>\n",
       "      <th>4</th>\n",
       "      <td>5</td>\n",
       "      <td>56</td>\n",
       "      <td>125</td>\n",
       "    </tr>\n",
       "    <tr>\n",
       "      <th>5</th>\n",
       "      <td>6</td>\n",
       "      <td>59</td>\n",
       "      <td>136</td>\n",
       "    </tr>\n",
       "    <tr>\n",
       "      <th>6</th>\n",
       "      <td>7</td>\n",
       "      <td>62</td>\n",
       "      <td>144</td>\n",
       "    </tr>\n",
       "    <tr>\n",
       "      <th>7</th>\n",
       "      <td>8</td>\n",
       "      <td>65</td>\n",
       "      <td>142</td>\n",
       "    </tr>\n",
       "    <tr>\n",
       "      <th>8</th>\n",
       "      <td>9</td>\n",
       "      <td>67</td>\n",
       "      <td>149</td>\n",
       "    </tr>\n",
       "    <tr>\n",
       "      <th>9</th>\n",
       "      <td>10</td>\n",
       "      <td>71</td>\n",
       "      <td>161</td>\n",
       "    </tr>\n",
       "    <tr>\n",
       "      <th>10</th>\n",
       "      <td>11</td>\n",
       "      <td>72</td>\n",
       "      <td>167</td>\n",
       "    </tr>\n",
       "    <tr>\n",
       "      <th>11</th>\n",
       "      <td>12</td>\n",
       "      <td>74</td>\n",
       "      <td>168</td>\n",
       "    </tr>\n",
       "    <tr>\n",
       "      <th>12</th>\n",
       "      <td>13</td>\n",
       "      <td>75</td>\n",
       "      <td>162</td>\n",
       "    </tr>\n",
       "    <tr>\n",
       "      <th>13</th>\n",
       "      <td>14</td>\n",
       "      <td>76</td>\n",
       "      <td>171</td>\n",
       "    </tr>\n",
       "    <tr>\n",
       "      <th>14</th>\n",
       "      <td>15</td>\n",
       "      <td>79</td>\n",
       "      <td>175</td>\n",
       "    </tr>\n",
       "    <tr>\n",
       "      <th>15</th>\n",
       "      <td>16</td>\n",
       "      <td>80</td>\n",
       "      <td>182</td>\n",
       "    </tr>\n",
       "    <tr>\n",
       "      <th>16</th>\n",
       "      <td>17</td>\n",
       "      <td>82</td>\n",
       "      <td>180</td>\n",
       "    </tr>\n",
       "    <tr>\n",
       "      <th>17</th>\n",
       "      <td>18</td>\n",
       "      <td>85</td>\n",
       "      <td>183</td>\n",
       "    </tr>\n",
       "    <tr>\n",
       "      <th>18</th>\n",
       "      <td>19</td>\n",
       "      <td>87</td>\n",
       "      <td>188</td>\n",
       "    </tr>\n",
       "    <tr>\n",
       "      <th>19</th>\n",
       "      <td>20</td>\n",
       "      <td>90</td>\n",
       "      <td>200</td>\n",
       "    </tr>\n",
       "    <tr>\n",
       "      <th>20</th>\n",
       "      <td>21</td>\n",
       "      <td>93</td>\n",
       "      <td>194</td>\n",
       "    </tr>\n",
       "    <tr>\n",
       "      <th>21</th>\n",
       "      <td>22</td>\n",
       "      <td>94</td>\n",
       "      <td>206</td>\n",
       "    </tr>\n",
       "    <tr>\n",
       "      <th>22</th>\n",
       "      <td>23</td>\n",
       "      <td>95</td>\n",
       "      <td>207</td>\n",
       "    </tr>\n",
       "    <tr>\n",
       "      <th>23</th>\n",
       "      <td>24</td>\n",
       "      <td>97</td>\n",
       "      <td>210</td>\n",
       "    </tr>\n",
       "    <tr>\n",
       "      <th>24</th>\n",
       "      <td>25</td>\n",
       "      <td>100</td>\n",
       "      <td>219</td>\n",
       "    </tr>\n",
       "  </tbody>\n",
       "</table>\n",
       "</div>"
      ],
      "text/plain": [
       "    Observation Number  Temperature (Xi)  Yield (Yi)\n",
       "0                    1                50         122\n",
       "1                    2                53         118\n",
       "2                    3                54         128\n",
       "3                    4                55         121\n",
       "4                    5                56         125\n",
       "5                    6                59         136\n",
       "6                    7                62         144\n",
       "7                    8                65         142\n",
       "8                    9                67         149\n",
       "9                   10                71         161\n",
       "10                  11                72         167\n",
       "11                  12                74         168\n",
       "12                  13                75         162\n",
       "13                  14                76         171\n",
       "14                  15                79         175\n",
       "15                  16                80         182\n",
       "16                  17                82         180\n",
       "17                  18                85         183\n",
       "18                  19                87         188\n",
       "19                  20                90         200\n",
       "20                  21                93         194\n",
       "21                  22                94         206\n",
       "22                  23                95         207\n",
       "23                  24                97         210\n",
       "24                  25               100         219"
      ]
     },
     "execution_count": 89,
     "metadata": {},
     "output_type": "execute_result"
    }
   ],
   "source": [
    "df"
   ]
  },
  {
   "cell_type": "code",
   "execution_count": 90,
   "metadata": {},
   "outputs": [
    {
     "data": {
      "image/png": "[encoded data removed]",
      "text/plain": [
       "<Figure size 432x288 with 1 Axes>"
      ]
     },
     "metadata": {
      "needs_background": "light"
     },
     "output_type": "display_data"
    }
   ],
   "source": [
    "import numpy as np\n",
    "import matplotlib.pyplot as plt\n",
    "x= df['Temperature (Xi)'].values.reshape(-1,1)\n",
    "y = df['Yield (Yi)'].values.reshape(-1,1)\n",
    "plt.scatter(x,y,color='r')\n",
    "plt.xlabel('Temperature')\n",
    "plt.ylabel('Yield')\n",
    "plt.show()"
   ]
  },
  {
   "cell_type": "code",
   "execution_count": 91,
   "metadata": {},
   "outputs": [
    {
     "name": "stdout",
     "output_type": "stream",
     "text": [
      "meanx= 74.84\n",
      "meany 166.32\n",
      "[17.00159173] [1.99516847]\n"
     ]
    }
   ],
   "source": [
    "def compute_betacoeff(x, y):\n",
    "\n",
    "        n=np.size(x)\n",
    "        meanx, meany =np.mean(x), np.mean(y)\n",
    "        print(\"meanx=\",meanx)\n",
    "        print(\"meany\",meany)\n",
    "        cov_xy= 0.0\n",
    "        var_xy= 0.0\n",
    "        for i in range(n):\n",
    "            cov_xy+= ((x[i]-meanx)*(y[i] -meany))\n",
    "            var_xy+= ((x[i]-meanx)*(x[i] -meany))\n",
    "        # calculating regression coefficients\n",
    "        b_1 = cov_xy/var_xy\n",
    "        b_0 = meany-b_1*meanx\n",
    "        return(b_0, b_1)\n",
    "b0,b1=compute_betacoeff(x,y)\n",
    "print(b0,b1)"
   ]
  },
  {
   "cell_type": "code",
   "execution_count": 92,
   "metadata": {},
   "outputs": [
    {
     "data": {
      "text/plain": [
       "<function matplotlib.pyplot.show(close=None, block=None)>"
      ]
     },
     "execution_count": 92,
     "metadata": {},
     "output_type": "execute_result"
    },
    {
     "data": {
      "image/png": "[encoded data removed]",
      "text/plain": [
       "<Figure size 432x288 with 1 Axes>"
      ]
     },
     "metadata": {
      "needs_background": "light"
     },
     "output_type": "display_data"
    }
   ],
   "source": [
    "y_pred=b0+b1*x\n",
    "plt.scatter(x,y,color='blue')\n",
    "plt.plot(x,y_pred,color='red',linewidth=2)\n",
    "plt.title('Temperature vs Yield regression fit')\n",
    "plt.xlabel('Temperature')\n",
    "plt.ylabel('Yield')\n",
    "plt.show"
   ]
  }
 ],
 "metadata": {
  "kernelspec": {
   "display_name": "Python 3",
   "language": "python",
   "name": "python3"
  },
  "language_info": {
   "codemirror_mode": {
    "name": "ipython",
    "version": 3
   },
   "file_extension": ".py",
   "mimetype": "text/x-python",
   "name": "python",
   "nbconvert_exporter": "python",
   "pygments_lexer": "ipython3",
   "version": "3.8.8"
  }
 },
 "nbformat": 4,
 "nbformat_minor": 4
}
