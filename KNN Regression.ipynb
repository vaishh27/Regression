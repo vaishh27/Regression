{
 "cells": [
  {
   "cell_type": "code",
   "execution_count": 1,
   "id": "812314ff",
   "metadata": {},
   "outputs": [
    {
     "name": "stdout",
     "output_type": "stream",
     "text": [
      "Vaishnavi Shinde\n",
      "1132200485\n"
     ]
    }
   ],
   "source": [
    "print(\"Vaishnavi Shinde\")\n",
    "print(\"1132200485\")"
   ]
  },
  {
   "cell_type": "code",
   "execution_count": 2,
   "id": "9cc45d93",
   "metadata": {},
   "outputs": [],
   "source": [
    "#import libraries\n",
    "\n",
    "#NUmber crunching\n",
    "import pandas as pd\n",
    "import numpy as np\n",
    "\n",
    "#Plots and graphs\n",
    "import matplotlib.pyplot as plt  \n",
    "import seaborn as sns\n",
    "\n",
    "#Model building\n",
    "from sklearn.model_selection import train_test_split \n",
    "from sklearn.linear_model import LogisticRegression\n",
    "from sklearn.preprocessing import OrdinalEncoder\n",
    "from sklearn.preprocessing import OneHotEncoder\n",
    "#Pre-processing\n",
    "from sklearn.preprocessing import LabelEncoder\n",
    "from sklearn.preprocessing import StandardScaler\n",
    "\n",
    "\n",
    "#Plots and graphs\n",
    "import matplotlib.pyplot as plt  \n",
    "import seaborn as sns\n",
    "%matplotlib inline"
   ]
  },
  {
   "cell_type": "code",
   "execution_count": 3,
   "id": "5bc3dca5",
   "metadata": {},
   "outputs": [
    {
     "name": "stdout",
     "output_type": "stream",
     "text": [
      "D:\\NOTES\\SEM 3\\Lab On ML 2\\Dataset\n"
     ]
    }
   ],
   "source": [
    "%cd D:\\NOTES\\SEM 3\\Lab On ML 2\\Dataset"
   ]
  },
  {
   "cell_type": "markdown",
   "id": "b856597c",
   "metadata": {},
   "source": [
    "### Loading the Dataset"
   ]
  },
  {
   "cell_type": "code",
   "execution_count": 4,
   "id": "24f7b6a8",
   "metadata": {},
   "outputs": [],
   "source": [
    "dataset=pd.read_csv('Fish.csv')"
   ]
  },
  {
   "cell_type": "code",
   "execution_count": 5,
   "id": "3da52608",
   "metadata": {},
   "outputs": [
    {
     "data": {
      "text/plain": [
       "(159, 7)"
      ]
     },
     "execution_count": 5,
     "metadata": {},
     "output_type": "execute_result"
    }
   ],
   "source": [
    "dataset.shape"
   ]
  },
  {
   "cell_type": "code",
   "execution_count": 6,
   "id": "ec800abe",
   "metadata": {},
   "outputs": [
    {
     "data": {
      "text/html": [
       "<div>\n",
       "<style scoped>\n",
       "    .dataframe tbody tr th:only-of-type {\n",
       "        vertical-align: middle;\n",
       "    }\n",
       "\n",
       "    .dataframe tbody tr th {\n",
       "        vertical-align: top;\n",
       "    }\n",
       "\n",
       "    .dataframe thead th {\n",
       "        text-align: right;\n",
       "    }\n",
       "</style>\n",
       "<table border=\"1\" class=\"dataframe\">\n",
       "  <thead>\n",
       "    <tr style=\"text-align: right;\">\n",
       "      <th></th>\n",
       "      <th>Weight</th>\n",
       "      <th>Length1</th>\n",
       "      <th>Length2</th>\n",
       "      <th>Length3</th>\n",
       "      <th>Height</th>\n",
       "      <th>Width</th>\n",
       "    </tr>\n",
       "  </thead>\n",
       "  <tbody>\n",
       "    <tr>\n",
       "      <th>count</th>\n",
       "      <td>159.000000</td>\n",
       "      <td>159.000000</td>\n",
       "      <td>159.000000</td>\n",
       "      <td>159.000000</td>\n",
       "      <td>159.000000</td>\n",
       "      <td>159.000000</td>\n",
       "    </tr>\n",
       "    <tr>\n",
       "      <th>mean</th>\n",
       "      <td>398.326415</td>\n",
       "      <td>26.247170</td>\n",
       "      <td>28.415723</td>\n",
       "      <td>31.227044</td>\n",
       "      <td>8.970994</td>\n",
       "      <td>4.417486</td>\n",
       "    </tr>\n",
       "    <tr>\n",
       "      <th>std</th>\n",
       "      <td>357.978317</td>\n",
       "      <td>9.996441</td>\n",
       "      <td>10.716328</td>\n",
       "      <td>11.610246</td>\n",
       "      <td>4.286208</td>\n",
       "      <td>1.685804</td>\n",
       "    </tr>\n",
       "    <tr>\n",
       "      <th>min</th>\n",
       "      <td>0.000000</td>\n",
       "      <td>7.500000</td>\n",
       "      <td>8.400000</td>\n",
       "      <td>8.800000</td>\n",
       "      <td>1.728400</td>\n",
       "      <td>1.047600</td>\n",
       "    </tr>\n",
       "    <tr>\n",
       "      <th>25%</th>\n",
       "      <td>120.000000</td>\n",
       "      <td>19.050000</td>\n",
       "      <td>21.000000</td>\n",
       "      <td>23.150000</td>\n",
       "      <td>5.944800</td>\n",
       "      <td>3.385650</td>\n",
       "    </tr>\n",
       "    <tr>\n",
       "      <th>50%</th>\n",
       "      <td>273.000000</td>\n",
       "      <td>25.200000</td>\n",
       "      <td>27.300000</td>\n",
       "      <td>29.400000</td>\n",
       "      <td>7.786000</td>\n",
       "      <td>4.248500</td>\n",
       "    </tr>\n",
       "    <tr>\n",
       "      <th>75%</th>\n",
       "      <td>650.000000</td>\n",
       "      <td>32.700000</td>\n",
       "      <td>35.500000</td>\n",
       "      <td>39.650000</td>\n",
       "      <td>12.365900</td>\n",
       "      <td>5.584500</td>\n",
       "    </tr>\n",
       "    <tr>\n",
       "      <th>max</th>\n",
       "      <td>1650.000000</td>\n",
       "      <td>59.000000</td>\n",
       "      <td>63.400000</td>\n",
       "      <td>68.000000</td>\n",
       "      <td>18.957000</td>\n",
       "      <td>8.142000</td>\n",
       "    </tr>\n",
       "  </tbody>\n",
       "</table>\n",
       "</div>"
      ],
      "text/plain": [
       "            Weight     Length1     Length2     Length3      Height       Width\n",
       "count   159.000000  159.000000  159.000000  159.000000  159.000000  159.000000\n",
       "mean    398.326415   26.247170   28.415723   31.227044    8.970994    4.417486\n",
       "std     357.978317    9.996441   10.716328   11.610246    4.286208    1.685804\n",
       "min       0.000000    7.500000    8.400000    8.800000    1.728400    1.047600\n",
       "25%     120.000000   19.050000   21.000000   23.150000    5.944800    3.385650\n",
       "50%     273.000000   25.200000   27.300000   29.400000    7.786000    4.248500\n",
       "75%     650.000000   32.700000   35.500000   39.650000   12.365900    5.584500\n",
       "max    1650.000000   59.000000   63.400000   68.000000   18.957000    8.142000"
      ]
     },
     "execution_count": 6,
     "metadata": {},
     "output_type": "execute_result"
    }
   ],
   "source": [
    "dataset.describe()"
   ]
  },
  {
   "cell_type": "code",
   "execution_count": 7,
   "id": "91c04e1a",
   "metadata": {},
   "outputs": [
    {
     "name": "stdout",
     "output_type": "stream",
     "text": [
      "<class 'pandas.core.frame.DataFrame'>\n",
      "RangeIndex: 159 entries, 0 to 158\n",
      "Data columns (total 7 columns):\n",
      " #   Column   Non-Null Count  Dtype  \n",
      "---  ------   --------------  -----  \n",
      " 0   Species  159 non-null    object \n",
      " 1   Weight   159 non-null    float64\n",
      " 2   Length1  159 non-null    float64\n",
      " 3   Length2  159 non-null    float64\n",
      " 4   Length3  159 non-null    float64\n",
      " 5   Height   159 non-null    float64\n",
      " 6   Width    159 non-null    float64\n",
      "dtypes: float64(6), object(1)\n",
      "memory usage: 8.8+ KB\n"
     ]
    }
   ],
   "source": [
    "dataset.info()"
   ]
  },
  {
   "cell_type": "code",
   "execution_count": 8,
   "id": "2d101d38",
   "metadata": {},
   "outputs": [
    {
     "data": {
      "image/png": "[encoded data removed]",
      "text/plain": [
       "<Figure size 1440x288 with 6 Axes>"
      ]
     },
     "metadata": {
      "needs_background": "light"
     },
     "output_type": "display_data"
    }
   ],
   "source": [
    "fig, ax = plt.subplots(ncols=6, figsize=(20, 4))\n",
    "variables = dataset.columns[1:]\n",
    "for i, var in enumerate(variables):\n",
    "    sns.histplot(data=dataset, x=var, ax=ax[i])\n",
    "plt.show()"
   ]
  },
  {
   "cell_type": "markdown",
   "id": "01cbbb9a",
   "metadata": {},
   "source": [
    "### ENCODING\n",
    "#### Here While dealing with categorical values, we have used the get_dummies method. It is used for data manipulation. It converts categorical data into dummy or indicator variables."
   ]
  },
  {
   "cell_type": "code",
   "execution_count": 9,
   "id": "292c50c3",
   "metadata": {},
   "outputs": [],
   "source": [
    "Fish = pd.get_dummies(dataset[\"Species\"])"
   ]
  },
  {
   "cell_type": "code",
   "execution_count": 10,
   "id": "fa4775f7",
   "metadata": {},
   "outputs": [
    {
     "data": {
      "text/plain": [
       "(159, 7)"
      ]
     },
     "execution_count": 10,
     "metadata": {},
     "output_type": "execute_result"
    }
   ],
   "source": [
    "Fish.shape"
   ]
  },
  {
   "cell_type": "code",
   "execution_count": 11,
   "id": "aa63a72a",
   "metadata": {},
   "outputs": [],
   "source": [
    "dataset = pd.concat([dataset, Fish], axis = 1)"
   ]
  },
  {
   "cell_type": "code",
   "execution_count": 12,
   "id": "4bfa3e60",
   "metadata": {},
   "outputs": [],
   "source": [
    "dataset = dataset.drop(\"Species\", axis =1)"
   ]
  },
  {
   "cell_type": "code",
   "execution_count": 13,
   "id": "d9b9a529",
   "metadata": {},
   "outputs": [
    {
     "data": {
      "text/html": [
       "<div>\n",
       "<style scoped>\n",
       "    .dataframe tbody tr th:only-of-type {\n",
       "        vertical-align: middle;\n",
       "    }\n",
       "\n",
       "    .dataframe tbody tr th {\n",
       "        vertical-align: top;\n",
       "    }\n",
       "\n",
       "    .dataframe thead th {\n",
       "        text-align: right;\n",
       "    }\n",
       "</style>\n",
       "<table border=\"1\" class=\"dataframe\">\n",
       "  <thead>\n",
       "    <tr style=\"text-align: right;\">\n",
       "      <th></th>\n",
       "      <th>Weight</th>\n",
       "      <th>Length1</th>\n",
       "      <th>Length2</th>\n",
       "      <th>Length3</th>\n",
       "      <th>Height</th>\n",
       "      <th>Width</th>\n",
       "      <th>Bream</th>\n",
       "      <th>Parkki</th>\n",
       "      <th>Perch</th>\n",
       "      <th>Pike</th>\n",
       "      <th>Roach</th>\n",
       "      <th>Smelt</th>\n",
       "      <th>Whitefish</th>\n",
       "    </tr>\n",
       "  </thead>\n",
       "  <tbody>\n",
       "    <tr>\n",
       "      <th>0</th>\n",
       "      <td>242.0</td>\n",
       "      <td>23.2</td>\n",
       "      <td>25.4</td>\n",
       "      <td>30.0</td>\n",
       "      <td>11.5200</td>\n",
       "      <td>4.0200</td>\n",
       "      <td>1</td>\n",
       "      <td>0</td>\n",
       "      <td>0</td>\n",
       "      <td>0</td>\n",
       "      <td>0</td>\n",
       "      <td>0</td>\n",
       "      <td>0</td>\n",
       "    </tr>\n",
       "    <tr>\n",
       "      <th>1</th>\n",
       "      <td>290.0</td>\n",
       "      <td>24.0</td>\n",
       "      <td>26.3</td>\n",
       "      <td>31.2</td>\n",
       "      <td>12.4800</td>\n",
       "      <td>4.3056</td>\n",
       "      <td>1</td>\n",
       "      <td>0</td>\n",
       "      <td>0</td>\n",
       "      <td>0</td>\n",
       "      <td>0</td>\n",
       "      <td>0</td>\n",
       "      <td>0</td>\n",
       "    </tr>\n",
       "    <tr>\n",
       "      <th>2</th>\n",
       "      <td>340.0</td>\n",
       "      <td>23.9</td>\n",
       "      <td>26.5</td>\n",
       "      <td>31.1</td>\n",
       "      <td>12.3778</td>\n",
       "      <td>4.6961</td>\n",
       "      <td>1</td>\n",
       "      <td>0</td>\n",
       "      <td>0</td>\n",
       "      <td>0</td>\n",
       "      <td>0</td>\n",
       "      <td>0</td>\n",
       "      <td>0</td>\n",
       "    </tr>\n",
       "    <tr>\n",
       "      <th>3</th>\n",
       "      <td>363.0</td>\n",
       "      <td>26.3</td>\n",
       "      <td>29.0</td>\n",
       "      <td>33.5</td>\n",
       "      <td>12.7300</td>\n",
       "      <td>4.4555</td>\n",
       "      <td>1</td>\n",
       "      <td>0</td>\n",
       "      <td>0</td>\n",
       "      <td>0</td>\n",
       "      <td>0</td>\n",
       "      <td>0</td>\n",
       "      <td>0</td>\n",
       "    </tr>\n",
       "    <tr>\n",
       "      <th>4</th>\n",
       "      <td>430.0</td>\n",
       "      <td>26.5</td>\n",
       "      <td>29.0</td>\n",
       "      <td>34.0</td>\n",
       "      <td>12.4440</td>\n",
       "      <td>5.1340</td>\n",
       "      <td>1</td>\n",
       "      <td>0</td>\n",
       "      <td>0</td>\n",
       "      <td>0</td>\n",
       "      <td>0</td>\n",
       "      <td>0</td>\n",
       "      <td>0</td>\n",
       "    </tr>\n",
       "  </tbody>\n",
       "</table>\n",
       "</div>"
      ],
      "text/plain": [
       "   Weight  Length1  Length2  Length3   Height   Width  Bream  Parkki  Perch  \\\n",
       "0   242.0     23.2     25.4     30.0  11.5200  4.0200      1       0      0   \n",
       "1   290.0     24.0     26.3     31.2  12.4800  4.3056      1       0      0   \n",
       "2   340.0     23.9     26.5     31.1  12.3778  4.6961      1       0      0   \n",
       "3   363.0     26.3     29.0     33.5  12.7300  4.4555      1       0      0   \n",
       "4   430.0     26.5     29.0     34.0  12.4440  5.1340      1       0      0   \n",
       "\n",
       "   Pike  Roach  Smelt  Whitefish  \n",
       "0     0      0      0          0  \n",
       "1     0      0      0          0  \n",
       "2     0      0      0          0  \n",
       "3     0      0      0          0  \n",
       "4     0      0      0          0  "
      ]
     },
     "execution_count": 13,
     "metadata": {},
     "output_type": "execute_result"
    }
   ],
   "source": [
    "dataset.head()"
   ]
  },
  {
   "cell_type": "code",
   "execution_count": 14,
   "id": "9fab4367",
   "metadata": {},
   "outputs": [
    {
     "data": {
      "text/plain": [
       "(159, 13)"
      ]
     },
     "execution_count": 14,
     "metadata": {},
     "output_type": "execute_result"
    }
   ],
   "source": [
    "dataset.shape"
   ]
  },
  {
   "cell_type": "code",
   "execution_count": 15,
   "id": "5f035d7c",
   "metadata": {},
   "outputs": [],
   "source": [
    "X_train=dataset.drop('Weight',axis=1)"
   ]
  },
  {
   "cell_type": "code",
   "execution_count": 16,
   "id": "6812cdcb",
   "metadata": {},
   "outputs": [],
   "source": [
    "y_train= dataset['Weight']\n"
   ]
  },
  {
   "cell_type": "code",
   "execution_count": 17,
   "id": "bb4a7104",
   "metadata": {},
   "outputs": [
    {
     "data": {
      "text/plain": [
       "((159, 12), (159,))"
      ]
     },
     "execution_count": 17,
     "metadata": {},
     "output_type": "execute_result"
    }
   ],
   "source": [
    "X_train.shape,y_train.shape"
   ]
  },
  {
   "cell_type": "code",
   "execution_count": 18,
   "id": "8b50e43c",
   "metadata": {},
   "outputs": [
    {
     "data": {
      "text/plain": [
       "array([[<AxesSubplot:xlabel='Weight', ylabel='Weight'>,\n",
       "        <AxesSubplot:xlabel='Length1', ylabel='Weight'>,\n",
       "        <AxesSubplot:xlabel='Length2', ylabel='Weight'>,\n",
       "        <AxesSubplot:xlabel='Length3', ylabel='Weight'>,\n",
       "        <AxesSubplot:xlabel='Height', ylabel='Weight'>,\n",
       "        <AxesSubplot:xlabel='Width', ylabel='Weight'>,\n",
       "        <AxesSubplot:xlabel='Bream', ylabel='Weight'>,\n",
       "        <AxesSubplot:xlabel='Parkki', ylabel='Weight'>,\n",
       "        <AxesSubplot:xlabel='Perch', ylabel='Weight'>,\n",
       "        <AxesSubplot:xlabel='Pike', ylabel='Weight'>,\n",
       "        <AxesSubplot:xlabel='Roach', ylabel='Weight'>,\n",
       "        <AxesSubplot:xlabel='Smelt', ylabel='Weight'>,\n",
       "        <AxesSubplot:xlabel='Whitefish', ylabel='Weight'>],\n",
       "       [<AxesSubplot:xlabel='Weight', ylabel='Length1'>,\n",
       "        <AxesSubplot:xlabel='Length1', ylabel='Length1'>,\n",
       "        <AxesSubplot:xlabel='Length2', ylabel='Length1'>,\n",
       "        <AxesSubplot:xlabel='Length3', ylabel='Length1'>,\n",
       "        <AxesSubplot:xlabel='Height', ylabel='Length1'>,\n",
       "        <AxesSubplot:xlabel='Width', ylabel='Length1'>,\n",
       "        <AxesSubplot:xlabel='Bream', ylabel='Length1'>,\n",
       "        <AxesSubplot:xlabel='Parkki', ylabel='Length1'>,\n",
       "        <AxesSubplot:xlabel='Perch', ylabel='Length1'>,\n",
       "        <AxesSubplot:xlabel='Pike', ylabel='Length1'>,\n",
       "        <AxesSubplot:xlabel='Roach', ylabel='Length1'>,\n",
       "        <AxesSubplot:xlabel='Smelt', ylabel='Length1'>,\n",
       "        <AxesSubplot:xlabel='Whitefish', ylabel='Length1'>],\n",
       "       [<AxesSubplot:xlabel='Weight', ylabel='Length2'>,\n",
       "        <AxesSubplot:xlabel='Length1', ylabel='Length2'>,\n",
       "        <AxesSubplot:xlabel='Length2', ylabel='Length2'>,\n",
       "        <AxesSubplot:xlabel='Length3', ylabel='Length2'>,\n",
       "        <AxesSubplot:xlabel='Height', ylabel='Length2'>,\n",
       "        <AxesSubplot:xlabel='Width', ylabel='Length2'>,\n",
       "        <AxesSubplot:xlabel='Bream', ylabel='Length2'>,\n",
       "        <AxesSubplot:xlabel='Parkki', ylabel='Length2'>,\n",
       "        <AxesSubplot:xlabel='Perch', ylabel='Length2'>,\n",
       "        <AxesSubplot:xlabel='Pike', ylabel='Length2'>,\n",
       "        <AxesSubplot:xlabel='Roach', ylabel='Length2'>,\n",
       "        <AxesSubplot:xlabel='Smelt', ylabel='Length2'>,\n",
       "        <AxesSubplot:xlabel='Whitefish', ylabel='Length2'>],\n",
       "       [<AxesSubplot:xlabel='Weight', ylabel='Length3'>,\n",
       "        <AxesSubplot:xlabel='Length1', ylabel='Length3'>,\n",
       "        <AxesSubplot:xlabel='Length2', ylabel='Length3'>,\n",
       "        <AxesSubplot:xlabel='Length3', ylabel='Length3'>,\n",
       "        <AxesSubplot:xlabel='Height', ylabel='Length3'>,\n",
       "        <AxesSubplot:xlabel='Width', ylabel='Length3'>,\n",
       "        <AxesSubplot:xlabel='Bream', ylabel='Length3'>,\n",
       "        <AxesSubplot:xlabel='Parkki', ylabel='Length3'>,\n",
       "        <AxesSubplot:xlabel='Perch', ylabel='Length3'>,\n",
       "        <AxesSubplot:xlabel='Pike', ylabel='Length3'>,\n",
       "        <AxesSubplot:xlabel='Roach', ylabel='Length3'>,\n",
       "        <AxesSubplot:xlabel='Smelt', ylabel='Length3'>,\n",
       "        <AxesSubplot:xlabel='Whitefish', ylabel='Length3'>],\n",
       "       [<AxesSubplot:xlabel='Weight', ylabel='Height'>,\n",
       "        <AxesSubplot:xlabel='Length1', ylabel='Height'>,\n",
       "        <AxesSubplot:xlabel='Length2', ylabel='Height'>,\n",
       "        <AxesSubplot:xlabel='Length3', ylabel='Height'>,\n",
       "        <AxesSubplot:xlabel='Height', ylabel='Height'>,\n",
       "        <AxesSubplot:xlabel='Width', ylabel='Height'>,\n",
       "        <AxesSubplot:xlabel='Bream', ylabel='Height'>,\n",
       "        <AxesSubplot:xlabel='Parkki', ylabel='Height'>,\n",
       "        <AxesSubplot:xlabel='Perch', ylabel='Height'>,\n",
       "        <AxesSubplot:xlabel='Pike', ylabel='Height'>,\n",
       "        <AxesSubplot:xlabel='Roach', ylabel='Height'>,\n",
       "        <AxesSubplot:xlabel='Smelt', ylabel='Height'>,\n",
       "        <AxesSubplot:xlabel='Whitefish', ylabel='Height'>],\n",
       "       [<AxesSubplot:xlabel='Weight', ylabel='Width'>,\n",
       "        <AxesSubplot:xlabel='Length1', ylabel='Width'>,\n",
       "        <AxesSubplot:xlabel='Length2', ylabel='Width'>,\n",
       "        <AxesSubplot:xlabel='Length3', ylabel='Width'>,\n",
       "        <AxesSubplot:xlabel='Height', ylabel='Width'>,\n",
       "        <AxesSubplot:xlabel='Width', ylabel='Width'>,\n",
       "        <AxesSubplot:xlabel='Bream', ylabel='Width'>,\n",
       "        <AxesSubplot:xlabel='Parkki', ylabel='Width'>,\n",
       "        <AxesSubplot:xlabel='Perch', ylabel='Width'>,\n",
       "        <AxesSubplot:xlabel='Pike', ylabel='Width'>,\n",
       "        <AxesSubplot:xlabel='Roach', ylabel='Width'>,\n",
       "        <AxesSubplot:xlabel='Smelt', ylabel='Width'>,\n",
       "        <AxesSubplot:xlabel='Whitefish', ylabel='Width'>],\n",
       "       [<AxesSubplot:xlabel='Weight', ylabel='Bream'>,\n",
       "        <AxesSubplot:xlabel='Length1', ylabel='Bream'>,\n",
       "        <AxesSubplot:xlabel='Length2', ylabel='Bream'>,\n",
       "        <AxesSubplot:xlabel='Length3', ylabel='Bream'>,\n",
       "        <AxesSubplot:xlabel='Height', ylabel='Bream'>,\n",
       "        <AxesSubplot:xlabel='Width', ylabel='Bream'>,\n",
       "        <AxesSubplot:xlabel='Bream', ylabel='Bream'>,\n",
       "        <AxesSubplot:xlabel='Parkki', ylabel='Bream'>,\n",
       "        <AxesSubplot:xlabel='Perch', ylabel='Bream'>,\n",
       "        <AxesSubplot:xlabel='Pike', ylabel='Bream'>,\n",
       "        <AxesSubplot:xlabel='Roach', ylabel='Bream'>,\n",
       "        <AxesSubplot:xlabel='Smelt', ylabel='Bream'>,\n",
       "        <AxesSubplot:xlabel='Whitefish', ylabel='Bream'>],\n",
       "       [<AxesSubplot:xlabel='Weight', ylabel='Parkki'>,\n",
       "        <AxesSubplot:xlabel='Length1', ylabel='Parkki'>,\n",
       "        <AxesSubplot:xlabel='Length2', ylabel='Parkki'>,\n",
       "        <AxesSubplot:xlabel='Length3', ylabel='Parkki'>,\n",
       "        <AxesSubplot:xlabel='Height', ylabel='Parkki'>,\n",
       "        <AxesSubplot:xlabel='Width', ylabel='Parkki'>,\n",
       "        <AxesSubplot:xlabel='Bream', ylabel='Parkki'>,\n",
       "        <AxesSubplot:xlabel='Parkki', ylabel='Parkki'>,\n",
       "        <AxesSubplot:xlabel='Perch', ylabel='Parkki'>,\n",
       "        <AxesSubplot:xlabel='Pike', ylabel='Parkki'>,\n",
       "        <AxesSubplot:xlabel='Roach', ylabel='Parkki'>,\n",
       "        <AxesSubplot:xlabel='Smelt', ylabel='Parkki'>,\n",
       "        <AxesSubplot:xlabel='Whitefish', ylabel='Parkki'>],\n",
       "       [<AxesSubplot:xlabel='Weight', ylabel='Perch'>,\n",
       "        <AxesSubplot:xlabel='Length1', ylabel='Perch'>,\n",
       "        <AxesSubplot:xlabel='Length2', ylabel='Perch'>,\n",
       "        <AxesSubplot:xlabel='Length3', ylabel='Perch'>,\n",
       "        <AxesSubplot:xlabel='Height', ylabel='Perch'>,\n",
       "        <AxesSubplot:xlabel='Width', ylabel='Perch'>,\n",
       "        <AxesSubplot:xlabel='Bream', ylabel='Perch'>,\n",
       "        <AxesSubplot:xlabel='Parkki', ylabel='Perch'>,\n",
       "        <AxesSubplot:xlabel='Perch', ylabel='Perch'>,\n",
       "        <AxesSubplot:xlabel='Pike', ylabel='Perch'>,\n",
       "        <AxesSubplot:xlabel='Roach', ylabel='Perch'>,\n",
       "        <AxesSubplot:xlabel='Smelt', ylabel='Perch'>,\n",
       "        <AxesSubplot:xlabel='Whitefish', ylabel='Perch'>],\n",
       "       [<AxesSubplot:xlabel='Weight', ylabel='Pike'>,\n",
       "        <AxesSubplot:xlabel='Length1', ylabel='Pike'>,\n",
       "        <AxesSubplot:xlabel='Length2', ylabel='Pike'>,\n",
       "        <AxesSubplot:xlabel='Length3', ylabel='Pike'>,\n",
       "        <AxesSubplot:xlabel='Height', ylabel='Pike'>,\n",
       "        <AxesSubplot:xlabel='Width', ylabel='Pike'>,\n",
       "        <AxesSubplot:xlabel='Bream', ylabel='Pike'>,\n",
       "        <AxesSubplot:xlabel='Parkki', ylabel='Pike'>,\n",
       "        <AxesSubplot:xlabel='Perch', ylabel='Pike'>,\n",
       "        <AxesSubplot:xlabel='Pike', ylabel='Pike'>,\n",
       "        <AxesSubplot:xlabel='Roach', ylabel='Pike'>,\n",
       "        <AxesSubplot:xlabel='Smelt', ylabel='Pike'>,\n",
       "        <AxesSubplot:xlabel='Whitefish', ylabel='Pike'>],\n",
       "       [<AxesSubplot:xlabel='Weight', ylabel='Roach'>,\n",
       "        <AxesSubplot:xlabel='Length1', ylabel='Roach'>,\n",
       "        <AxesSubplot:xlabel='Length2', ylabel='Roach'>,\n",
       "        <AxesSubplot:xlabel='Length3', ylabel='Roach'>,\n",
       "        <AxesSubplot:xlabel='Height', ylabel='Roach'>,\n",
       "        <AxesSubplot:xlabel='Width', ylabel='Roach'>,\n",
       "        <AxesSubplot:xlabel='Bream', ylabel='Roach'>,\n",
       "        <AxesSubplot:xlabel='Parkki', ylabel='Roach'>,\n",
       "        <AxesSubplot:xlabel='Perch', ylabel='Roach'>,\n",
       "        <AxesSubplot:xlabel='Pike', ylabel='Roach'>,\n",
       "        <AxesSubplot:xlabel='Roach', ylabel='Roach'>,\n",
       "        <AxesSubplot:xlabel='Smelt', ylabel='Roach'>,\n",
       "        <AxesSubplot:xlabel='Whitefish', ylabel='Roach'>],\n",
       "       [<AxesSubplot:xlabel='Weight', ylabel='Smelt'>,\n",
       "        <AxesSubplot:xlabel='Length1', ylabel='Smelt'>,\n",
       "        <AxesSubplot:xlabel='Length2', ylabel='Smelt'>,\n",
       "        <AxesSubplot:xlabel='Length3', ylabel='Smelt'>,\n",
       "        <AxesSubplot:xlabel='Height', ylabel='Smelt'>,\n",
       "        <AxesSubplot:xlabel='Width', ylabel='Smelt'>,\n",
       "        <AxesSubplot:xlabel='Bream', ylabel='Smelt'>,\n",
       "        <AxesSubplot:xlabel='Parkki', ylabel='Smelt'>,\n",
       "        <AxesSubplot:xlabel='Perch', ylabel='Smelt'>,\n",
       "        <AxesSubplot:xlabel='Pike', ylabel='Smelt'>,\n",
       "        <AxesSubplot:xlabel='Roach', ylabel='Smelt'>,\n",
       "        <AxesSubplot:xlabel='Smelt', ylabel='Smelt'>,\n",
       "        <AxesSubplot:xlabel='Whitefish', ylabel='Smelt'>],\n",
       "       [<AxesSubplot:xlabel='Weight', ylabel='Whitefish'>,\n",
       "        <AxesSubplot:xlabel='Length1', ylabel='Whitefish'>,\n",
       "        <AxesSubplot:xlabel='Length2', ylabel='Whitefish'>,\n",
       "        <AxesSubplot:xlabel='Length3', ylabel='Whitefish'>,\n",
       "        <AxesSubplot:xlabel='Height', ylabel='Whitefish'>,\n",
       "        <AxesSubplot:xlabel='Width', ylabel='Whitefish'>,\n",
       "        <AxesSubplot:xlabel='Bream', ylabel='Whitefish'>,\n",
       "        <AxesSubplot:xlabel='Parkki', ylabel='Whitefish'>,\n",
       "        <AxesSubplot:xlabel='Perch', ylabel='Whitefish'>,\n",
       "        <AxesSubplot:xlabel='Pike', ylabel='Whitefish'>,\n",
       "        <AxesSubplot:xlabel='Roach', ylabel='Whitefish'>,\n",
       "        <AxesSubplot:xlabel='Smelt', ylabel='Whitefish'>,\n",
       "        <AxesSubplot:xlabel='Whitefish', ylabel='Whitefish'>]],\n",
       "      dtype=object)"
      ]
     },
     "execution_count": 18,
     "metadata": {},
     "output_type": "execute_result"
    },
    {
     "data": {
      "image/png": "[encoded data removed]",
      "text/plain": [
       "<Figure size 864x576 with 169 Axes>"
      ]
     },
     "metadata": {
      "needs_background": "light"
     },
     "output_type": "display_data"
    }
   ],
   "source": [
    "from pandas.plotting import scatter_matrix\n",
    "\n",
    "scatter_matrix(dataset, figsize=(12, 8))"
   ]
  },
  {
   "cell_type": "code",
   "execution_count": 19,
   "id": "37820cdd",
   "metadata": {},
   "outputs": [
    {
     "data": {
      "text/html": [
       "<div>\n",
       "<style scoped>\n",
       "    .dataframe tbody tr th:only-of-type {\n",
       "        vertical-align: middle;\n",
       "    }\n",
       "\n",
       "    .dataframe tbody tr th {\n",
       "        vertical-align: top;\n",
       "    }\n",
       "\n",
       "    .dataframe thead th {\n",
       "        text-align: right;\n",
       "    }\n",
       "</style>\n",
       "<table border=\"1\" class=\"dataframe\">\n",
       "  <thead>\n",
       "    <tr style=\"text-align: right;\">\n",
       "      <th></th>\n",
       "      <th>Weight</th>\n",
       "      <th>Length1</th>\n",
       "      <th>Length2</th>\n",
       "      <th>Length3</th>\n",
       "      <th>Height</th>\n",
       "      <th>Width</th>\n",
       "      <th>Bream</th>\n",
       "      <th>Parkki</th>\n",
       "      <th>Perch</th>\n",
       "      <th>Pike</th>\n",
       "      <th>Roach</th>\n",
       "      <th>Smelt</th>\n",
       "      <th>Whitefish</th>\n",
       "    </tr>\n",
       "  </thead>\n",
       "  <tbody>\n",
       "    <tr>\n",
       "      <th>Weight</th>\n",
       "      <td>1.000000</td>\n",
       "      <td>0.915712</td>\n",
       "      <td>0.918618</td>\n",
       "      <td>0.923044</td>\n",
       "      <td>0.724345</td>\n",
       "      <td>0.886507</td>\n",
       "      <td>0.326795</td>\n",
       "      <td>-0.186034</td>\n",
       "      <td>-0.033240</td>\n",
       "      <td>0.310641</td>\n",
       "      <td>-0.261784</td>\n",
       "      <td>-0.337109</td>\n",
       "      <td>0.073625</td>\n",
       "    </tr>\n",
       "    <tr>\n",
       "      <th>Length1</th>\n",
       "      <td>0.915712</td>\n",
       "      <td>1.000000</td>\n",
       "      <td>0.999517</td>\n",
       "      <td>0.992031</td>\n",
       "      <td>0.625378</td>\n",
       "      <td>0.867050</td>\n",
       "      <td>0.216380</td>\n",
       "      <td>-0.205732</td>\n",
       "      <td>-0.037845</td>\n",
       "      <td>0.563514</td>\n",
       "      <td>-0.213250</td>\n",
       "      <td>-0.467420</td>\n",
       "      <td>0.050731</td>\n",
       "    </tr>\n",
       "    <tr>\n",
       "      <th>Length2</th>\n",
       "      <td>0.918618</td>\n",
       "      <td>0.999517</td>\n",
       "      <td>1.000000</td>\n",
       "      <td>0.994103</td>\n",
       "      <td>0.640441</td>\n",
       "      <td>0.873547</td>\n",
       "      <td>0.233391</td>\n",
       "      <td>-0.205957</td>\n",
       "      <td>-0.036090</td>\n",
       "      <td>0.552780</td>\n",
       "      <td>-0.218048</td>\n",
       "      <td>-0.479775</td>\n",
       "      <td>0.053777</td>\n",
       "    </tr>\n",
       "    <tr>\n",
       "      <th>Length3</th>\n",
       "      <td>0.923044</td>\n",
       "      <td>0.992031</td>\n",
       "      <td>0.994103</td>\n",
       "      <td>1.000000</td>\n",
       "      <td>0.703409</td>\n",
       "      <td>0.878520</td>\n",
       "      <td>0.327170</td>\n",
       "      <td>-0.198718</td>\n",
       "      <td>-0.105478</td>\n",
       "      <td>0.522894</td>\n",
       "      <td>-0.205072</td>\n",
       "      <td>-0.488397</td>\n",
       "      <td>0.052864</td>\n",
       "    </tr>\n",
       "    <tr>\n",
       "      <th>Height</th>\n",
       "      <td>0.724345</td>\n",
       "      <td>0.625378</td>\n",
       "      <td>0.640441</td>\n",
       "      <td>0.703409</td>\n",
       "      <td>1.000000</td>\n",
       "      <td>0.792881</td>\n",
       "      <td>0.772443</td>\n",
       "      <td>-0.000547</td>\n",
       "      <td>-0.191405</td>\n",
       "      <td>-0.101810</td>\n",
       "      <td>-0.202076</td>\n",
       "      <td>-0.491731</td>\n",
       "      <td>0.048951</td>\n",
       "    </tr>\n",
       "    <tr>\n",
       "      <th>Width</th>\n",
       "      <td>0.886507</td>\n",
       "      <td>0.867050</td>\n",
       "      <td>0.873547</td>\n",
       "      <td>0.878520</td>\n",
       "      <td>0.792881</td>\n",
       "      <td>1.000000</td>\n",
       "      <td>0.319347</td>\n",
       "      <td>-0.194147</td>\n",
       "      <td>0.144021</td>\n",
       "      <td>0.137722</td>\n",
       "      <td>-0.171465</td>\n",
       "      <td>-0.569018</td>\n",
       "      <td>0.124388</td>\n",
       "    </tr>\n",
       "    <tr>\n",
       "      <th>Bream</th>\n",
       "      <td>0.326795</td>\n",
       "      <td>0.216380</td>\n",
       "      <td>0.233391</td>\n",
       "      <td>0.327170</td>\n",
       "      <td>0.772443</td>\n",
       "      <td>0.319347</td>\n",
       "      <td>1.000000</td>\n",
       "      <td>-0.144840</td>\n",
       "      <td>-0.391741</td>\n",
       "      <td>-0.183825</td>\n",
       "      <td>-0.201526</td>\n",
       "      <td>-0.165083</td>\n",
       "      <td>-0.105209</td>\n",
       "    </tr>\n",
       "    <tr>\n",
       "      <th>Parkki</th>\n",
       "      <td>-0.186034</td>\n",
       "      <td>-0.205732</td>\n",
       "      <td>-0.205957</td>\n",
       "      <td>-0.198718</td>\n",
       "      <td>-0.000547</td>\n",
       "      <td>-0.194147</td>\n",
       "      <td>-0.144840</td>\n",
       "      <td>1.000000</td>\n",
       "      <td>-0.201021</td>\n",
       "      <td>-0.094329</td>\n",
       "      <td>-0.103413</td>\n",
       "      <td>-0.084712</td>\n",
       "      <td>-0.053988</td>\n",
       "    </tr>\n",
       "    <tr>\n",
       "      <th>Perch</th>\n",
       "      <td>-0.033240</td>\n",
       "      <td>-0.037845</td>\n",
       "      <td>-0.036090</td>\n",
       "      <td>-0.105478</td>\n",
       "      <td>-0.191405</td>\n",
       "      <td>0.144021</td>\n",
       "      <td>-0.391741</td>\n",
       "      <td>-0.201021</td>\n",
       "      <td>1.000000</td>\n",
       "      <td>-0.255127</td>\n",
       "      <td>-0.279694</td>\n",
       "      <td>-0.229116</td>\n",
       "      <td>-0.146018</td>\n",
       "    </tr>\n",
       "    <tr>\n",
       "      <th>Pike</th>\n",
       "      <td>0.310641</td>\n",
       "      <td>0.563514</td>\n",
       "      <td>0.552780</td>\n",
       "      <td>0.522894</td>\n",
       "      <td>-0.101810</td>\n",
       "      <td>0.137722</td>\n",
       "      <td>-0.183825</td>\n",
       "      <td>-0.094329</td>\n",
       "      <td>-0.255127</td>\n",
       "      <td>1.000000</td>\n",
       "      <td>-0.131247</td>\n",
       "      <td>-0.107513</td>\n",
       "      <td>-0.068519</td>\n",
       "    </tr>\n",
       "    <tr>\n",
       "      <th>Roach</th>\n",
       "      <td>-0.261784</td>\n",
       "      <td>-0.213250</td>\n",
       "      <td>-0.218048</td>\n",
       "      <td>-0.205072</td>\n",
       "      <td>-0.202076</td>\n",
       "      <td>-0.171465</td>\n",
       "      <td>-0.201526</td>\n",
       "      <td>-0.103413</td>\n",
       "      <td>-0.279694</td>\n",
       "      <td>-0.131247</td>\n",
       "      <td>1.000000</td>\n",
       "      <td>-0.117866</td>\n",
       "      <td>-0.075117</td>\n",
       "    </tr>\n",
       "    <tr>\n",
       "      <th>Smelt</th>\n",
       "      <td>-0.337109</td>\n",
       "      <td>-0.467420</td>\n",
       "      <td>-0.479775</td>\n",
       "      <td>-0.488397</td>\n",
       "      <td>-0.491731</td>\n",
       "      <td>-0.569018</td>\n",
       "      <td>-0.165083</td>\n",
       "      <td>-0.084712</td>\n",
       "      <td>-0.229116</td>\n",
       "      <td>-0.107513</td>\n",
       "      <td>-0.117866</td>\n",
       "      <td>1.000000</td>\n",
       "      <td>-0.061533</td>\n",
       "    </tr>\n",
       "    <tr>\n",
       "      <th>Whitefish</th>\n",
       "      <td>0.073625</td>\n",
       "      <td>0.050731</td>\n",
       "      <td>0.053777</td>\n",
       "      <td>0.052864</td>\n",
       "      <td>0.048951</td>\n",
       "      <td>0.124388</td>\n",
       "      <td>-0.105209</td>\n",
       "      <td>-0.053988</td>\n",
       "      <td>-0.146018</td>\n",
       "      <td>-0.068519</td>\n",
       "      <td>-0.075117</td>\n",
       "      <td>-0.061533</td>\n",
       "      <td>1.000000</td>\n",
       "    </tr>\n",
       "  </tbody>\n",
       "</table>\n",
       "</div>"
      ],
      "text/plain": [
       "             Weight   Length1   Length2   Length3    Height     Width  \\\n",
       "Weight     1.000000  0.915712  0.918618  0.923044  0.724345  0.886507   \n",
       "Length1    0.915712  1.000000  0.999517  0.992031  0.625378  0.867050   \n",
       "Length2    0.918618  0.999517  1.000000  0.994103  0.640441  0.873547   \n",
       "Length3    0.923044  0.992031  0.994103  1.000000  0.703409  0.878520   \n",
       "Height     0.724345  0.625378  0.640441  0.703409  1.000000  0.792881   \n",
       "Width      0.886507  0.867050  0.873547  0.878520  0.792881  1.000000   \n",
       "Bream      0.326795  0.216380  0.233391  0.327170  0.772443  0.319347   \n",
       "Parkki    -0.186034 -0.205732 -0.205957 -0.198718 -0.000547 -0.194147   \n",
       "Perch     -0.033240 -0.037845 -0.036090 -0.105478 -0.191405  0.144021   \n",
       "Pike       0.310641  0.563514  0.552780  0.522894 -0.101810  0.137722   \n",
       "Roach     -0.261784 -0.213250 -0.218048 -0.205072 -0.202076 -0.171465   \n",
       "Smelt     -0.337109 -0.467420 -0.479775 -0.488397 -0.491731 -0.569018   \n",
       "Whitefish  0.073625  0.050731  0.053777  0.052864  0.048951  0.124388   \n",
       "\n",
       "              Bream    Parkki     Perch      Pike     Roach     Smelt  \\\n",
       "Weight     0.326795 -0.186034 -0.033240  0.310641 -0.261784 -0.337109   \n",
       "Length1    0.216380 -0.205732 -0.037845  0.563514 -0.213250 -0.467420   \n",
       "Length2    0.233391 -0.205957 -0.036090  0.552780 -0.218048 -0.479775   \n",
       "Length3    0.327170 -0.198718 -0.105478  0.522894 -0.205072 -0.488397   \n",
       "Height     0.772443 -0.000547 -0.191405 -0.101810 -0.202076 -0.491731   \n",
       "Width      0.319347 -0.194147  0.144021  0.137722 -0.171465 -0.569018   \n",
       "Bream      1.000000 -0.144840 -0.391741 -0.183825 -0.201526 -0.165083   \n",
       "Parkki    -0.144840  1.000000 -0.201021 -0.094329 -0.103413 -0.084712   \n",
       "Perch     -0.391741 -0.201021  1.000000 -0.255127 -0.279694 -0.229116   \n",
       "Pike      -0.183825 -0.094329 -0.255127  1.000000 -0.131247 -0.107513   \n",
       "Roach     -0.201526 -0.103413 -0.279694 -0.131247  1.000000 -0.117866   \n",
       "Smelt     -0.165083 -0.084712 -0.229116 -0.107513 -0.117866  1.000000   \n",
       "Whitefish -0.105209 -0.053988 -0.146018 -0.068519 -0.075117 -0.061533   \n",
       "\n",
       "           Whitefish  \n",
       "Weight      0.073625  \n",
       "Length1     0.050731  \n",
       "Length2     0.053777  \n",
       "Length3     0.052864  \n",
       "Height      0.048951  \n",
       "Width       0.124388  \n",
       "Bream      -0.105209  \n",
       "Parkki     -0.053988  \n",
       "Perch      -0.146018  \n",
       "Pike       -0.068519  \n",
       "Roach      -0.075117  \n",
       "Smelt      -0.061533  \n",
       "Whitefish   1.000000  "
      ]
     },
     "execution_count": 19,
     "metadata": {},
     "output_type": "execute_result"
    }
   ],
   "source": [
    "corr_matrix=dataset.corr()\n",
    "corr_matrix"
   ]
  },
  {
   "cell_type": "code",
   "execution_count": 20,
   "id": "fd2aa906",
   "metadata": {},
   "outputs": [
    {
     "data": {
      "text/plain": [
       "<AxesSubplot:>"
      ]
     },
     "execution_count": 20,
     "metadata": {},
     "output_type": "execute_result"
    },
    {
     "data": {
      "image/png": "[encoded data removed]",
      "text/plain": [
       "<Figure size 864x576 with 2 Axes>"
      ]
     },
     "metadata": {
      "needs_background": "light"
     },
     "output_type": "display_data"
    }
   ],
   "source": [
    "plt.figure(figsize=(12, 8))\n",
    "corr_matrix=dataset.corr()\n",
    "matrix=np.triu(corr_matrix)\n",
    "sns.heatmap(corr_matrix,mask=matrix,annot=True)"
   ]
  },
  {
   "cell_type": "code",
   "execution_count": 21,
   "id": "776b9c53",
   "metadata": {},
   "outputs": [
    {
     "data": {
      "text/plain": [
       "Weight       1.000000\n",
       "Length3      0.923044\n",
       "Length2      0.918618\n",
       "Length1      0.915712\n",
       "Width        0.886507\n",
       "Height       0.724345\n",
       "Bream        0.326795\n",
       "Pike         0.310641\n",
       "Whitefish    0.073625\n",
       "Perch       -0.033240\n",
       "Parkki      -0.186034\n",
       "Roach       -0.261784\n",
       "Smelt       -0.337109\n",
       "Name: Weight, dtype: float64"
      ]
     },
     "execution_count": 21,
     "metadata": {},
     "output_type": "execute_result"
    }
   ],
   "source": [
    "corr_matrix[\"Weight\"].sort_values(ascending=False)"
   ]
  },
  {
   "cell_type": "markdown",
   "id": "c9f9c28d",
   "metadata": {},
   "source": [
    "### Our Target Variable -Weight has lowest correlation with WhiteFish and Perch Fish \n",
    "### Train Test Split"
   ]
  },
  {
   "cell_type": "code",
   "execution_count": 22,
   "id": "1232d082",
   "metadata": {},
   "outputs": [],
   "source": [
    "X_train, X_test, y_train, y_test = train_test_split(X_train, y_train, test_size=0.2, random_state=0)"
   ]
  },
  {
   "cell_type": "code",
   "execution_count": 23,
   "id": "d6a63b02",
   "metadata": {},
   "outputs": [
    {
     "name": "stdout",
     "output_type": "stream",
     "text": [
      "(127, 12)\n"
     ]
    }
   ],
   "source": [
    "print(X_train.shape )"
   ]
  },
  {
   "cell_type": "code",
   "execution_count": 24,
   "id": "cc9adbb2",
   "metadata": {},
   "outputs": [
    {
     "name": "stdout",
     "output_type": "stream",
     "text": [
      "(32, 12)\n"
     ]
    }
   ],
   "source": [
    "print(X_test.shape )"
   ]
  },
  {
   "cell_type": "code",
   "execution_count": 25,
   "id": "88d02655",
   "metadata": {},
   "outputs": [
    {
     "name": "stdout",
     "output_type": "stream",
     "text": [
      "(127,)\n"
     ]
    }
   ],
   "source": [
    "print(y_train.shape )"
   ]
  },
  {
   "cell_type": "code",
   "execution_count": 26,
   "id": "933d8c4b",
   "metadata": {},
   "outputs": [
    {
     "name": "stdout",
     "output_type": "stream",
     "text": [
      "(32,)\n"
     ]
    }
   ],
   "source": [
    "print(y_test.shape )"
   ]
  },
  {
   "cell_type": "markdown",
   "id": "e2f2a72c",
   "metadata": {},
   "source": [
    "## Applying KNeighborsRegressor\n",
    "## Using default Euclidean Distance"
   ]
  },
  {
   "cell_type": "code",
   "execution_count": 27,
   "id": "88ca4580",
   "metadata": {},
   "outputs": [
    {
     "data": {
      "text/plain": [
       "KNeighborsRegressor()"
      ]
     },
     "execution_count": 27,
     "metadata": {},
     "output_type": "execute_result"
    }
   ],
   "source": [
    "from sklearn.neighbors import KNeighborsRegressor\n",
    "knnregressor = KNeighborsRegressor(n_neighbors=5)\n",
    "knnregressor.fit(X_train, y_train)"
   ]
  },
  {
   "cell_type": "code",
   "execution_count": 28,
   "id": "1a5639ce",
   "metadata": {},
   "outputs": [
    {
     "name": "stdout",
     "output_type": "stream",
     "text": [
      "[ 448.6   109.4   165.    149.    685.8   841.    723.    413.    970.\n",
      "  122.    394.8   623.4   881.    948.     44.28   81.2   144.   1017.4\n",
      "  124.    717.8    36.68  442.8   133.   1017.4    89.4   485.    684.8\n",
      "  270.    841.      8.6   654.    132.  ]\n"
     ]
    }
   ],
   "source": [
    "print(knnregressor.predict(X_test))"
   ]
  },
  {
   "cell_type": "code",
   "execution_count": 29,
   "id": "c92e664c",
   "metadata": {},
   "outputs": [
    {
     "data": {
      "text/plain": [
       "0.8550832431611242"
      ]
     },
     "execution_count": 29,
     "metadata": {},
     "output_type": "execute_result"
    }
   ],
   "source": [
    "knnregressor.score(X_test,y_test)"
   ]
  },
  {
   "cell_type": "code",
   "execution_count": 30,
   "id": "e1021b93",
   "metadata": {},
   "outputs": [
    {
     "data": {
      "text/plain": [
       "KNeighborsRegressor()"
      ]
     },
     "execution_count": 30,
     "metadata": {},
     "output_type": "execute_result"
    }
   ],
   "source": [
    "knnregressor"
   ]
  },
  {
   "cell_type": "code",
   "execution_count": 31,
   "id": "aef026f7",
   "metadata": {},
   "outputs": [
    {
     "data": {
      "text/plain": [
       "0.8550832431611242"
      ]
     },
     "execution_count": 31,
     "metadata": {},
     "output_type": "execute_result"
    }
   ],
   "source": [
    "knnregressor = KNeighborsRegressor(n_neighbors=5,algorithm='ball_tree')\n",
    "knnregressor.fit(X_train, y_train)\n",
    "knnregressor.score(X_test,y_test)"
   ]
  },
  {
   "cell_type": "code",
   "execution_count": 32,
   "id": "04c0e2c6",
   "metadata": {},
   "outputs": [
    {
     "name": "stdout",
     "output_type": "stream",
     "text": [
      "[ 1  3  5  7  9 11 13 15 17 19 21 23 25 27 29 31 33 35 37 39 41 43 45 47\n",
      " 49 51 53 55 57 59 61 63 65 67 69 71 73 75 77 79 81 83 85 87 89 91 93 95\n",
      " 97 99]\n"
     ]
    }
   ],
   "source": [
    "k_values = np.arange(1,100,2)\n",
    "print(k_values)\n"
   ]
  },
  {
   "cell_type": "code",
   "execution_count": 33,
   "id": "fb8f5f5a",
   "metadata": {},
   "outputs": [
    {
     "name": "stdout",
     "output_type": "stream",
     "text": [
      "k=1, train_accuracy=100.00%, test_accuracy=96.31%\n",
      "k=3, train_accuracy=97.82%, test_accuracy=93.54%\n",
      "k=5, train_accuracy=95.24%, test_accuracy=85.51%\n",
      "k=7, train_accuracy=92.42%, test_accuracy=81.17%\n",
      "k=9, train_accuracy=90.12%, test_accuracy=79.21%\n",
      "k=11, train_accuracy=89.13%, test_accuracy=77.32%\n",
      "k=13, train_accuracy=89.31%, test_accuracy=77.59%\n",
      "k=15, train_accuracy=88.93%, test_accuracy=76.74%\n",
      "k=17, train_accuracy=88.69%, test_accuracy=76.90%\n",
      "k=19, train_accuracy=87.66%, test_accuracy=76.20%\n",
      "k=21, train_accuracy=87.17%, test_accuracy=75.72%\n",
      "k=23, train_accuracy=86.21%, test_accuracy=73.18%\n",
      "k=25, train_accuracy=86.22%, test_accuracy=72.89%\n",
      "k=27, train_accuracy=85.71%, test_accuracy=72.35%\n",
      "k=29, train_accuracy=85.33%, test_accuracy=71.53%\n",
      "k=31, train_accuracy=85.10%, test_accuracy=70.55%\n",
      "k=33, train_accuracy=84.14%, test_accuracy=69.42%\n",
      "k=35, train_accuracy=83.62%, test_accuracy=68.77%\n",
      "k=37, train_accuracy=83.40%, test_accuracy=68.06%\n",
      "k=39, train_accuracy=82.38%, test_accuracy=66.71%\n",
      "k=41, train_accuracy=81.92%, test_accuracy=66.25%\n",
      "k=43, train_accuracy=81.19%, test_accuracy=65.05%\n",
      "k=45, train_accuracy=80.73%, test_accuracy=64.12%\n",
      "k=47, train_accuracy=80.21%, test_accuracy=63.16%\n",
      "k=49, train_accuracy=79.60%, test_accuracy=62.42%\n",
      "k=51, train_accuracy=78.93%, test_accuracy=61.52%\n",
      "k=53, train_accuracy=77.98%, test_accuracy=60.64%\n",
      "k=55, train_accuracy=77.01%, test_accuracy=59.23%\n",
      "k=57, train_accuracy=76.01%, test_accuracy=57.83%\n",
      "k=59, train_accuracy=74.91%, test_accuracy=56.52%\n",
      "k=61, train_accuracy=73.67%, test_accuracy=55.00%\n",
      "k=63, train_accuracy=72.44%, test_accuracy=53.61%\n",
      "k=65, train_accuracy=71.29%, test_accuracy=52.61%\n",
      "k=67, train_accuracy=70.18%, test_accuracy=51.30%\n",
      "k=69, train_accuracy=68.87%, test_accuracy=49.92%\n",
      "k=71, train_accuracy=67.67%, test_accuracy=48.50%\n",
      "k=73, train_accuracy=66.22%, test_accuracy=47.19%\n",
      "k=75, train_accuracy=64.64%, test_accuracy=45.49%\n",
      "k=77, train_accuracy=63.20%, test_accuracy=44.28%\n",
      "k=79, train_accuracy=61.36%, test_accuracy=42.65%\n",
      "k=81, train_accuracy=59.68%, test_accuracy=41.22%\n",
      "k=83, train_accuracy=57.83%, test_accuracy=39.42%\n",
      "k=85, train_accuracy=56.10%, test_accuracy=37.66%\n",
      "k=87, train_accuracy=54.27%, test_accuracy=35.94%\n",
      "k=89, train_accuracy=51.93%, test_accuracy=34.14%\n",
      "k=91, train_accuracy=49.90%, test_accuracy=32.31%\n",
      "k=93, train_accuracy=47.78%, test_accuracy=30.71%\n",
      "k=95, train_accuracy=45.45%, test_accuracy=28.91%\n",
      "k=97, train_accuracy=43.21%, test_accuracy=27.39%\n",
      "k=99, train_accuracy=40.89%, test_accuracy=25.51%\n"
     ]
    }
   ],
   "source": [
    "train_score_arr = []\n",
    "val_score_arr = []\n",
    "\n",
    "for k in k_values:\n",
    "    \n",
    "    model = KNeighborsRegressor(n_neighbors=k,algorithm='ball_tree')\n",
    "    model.fit(X_train,y_train)\n",
    "    \n",
    "    # We evaluate the performance of model, for each k - value\n",
    "    train_score = model.score(X_train, y_train) \n",
    "    train_score_arr.append(train_score*100)\n",
    "    \n",
    "    val_score = model.score(X_test, y_test)\n",
    "    val_score_arr.append(val_score*100)\n",
    "    \n",
    "    print(\"k=%d, train_accuracy=%.2f%%, test_accuracy=%.2f%%\" % (k, train_score * 100, val_score*100))"
   ]
  },
  {
   "cell_type": "code",
   "execution_count": 34,
   "id": "912d532e",
   "metadata": {},
   "outputs": [
    {
     "data": {
      "text/plain": [
       "Text(0, 0.5, 'Accuracy')"
      ]
     },
     "execution_count": 34,
     "metadata": {},
     "output_type": "execute_result"
    },
    {
     "data": {
      "image/png": "[encoded data removed]",
      "text/plain": [
       "<Figure size 864x576 with 1 Axes>"
      ]
     },
     "metadata": {
      "needs_background": "light"
     },
     "output_type": "display_data"
    }
   ],
   "source": [
    "d1=plt.figure(figsize=(12,8))\n",
    "plt.plot(k_values,train_score_arr,color=\"green\",linestyle=\"dotted\",marker=\"+\",markersize=10)\n",
    "plt.plot(k_values,val_score_arr,color=\"deepskyblue\",linestyle=\"dotted\",marker=\"+\",markersize=10)\n",
    "plt.title(\"acc vs diff k's\")\n",
    "plt.xlabel('K')\n",
    "plt.ylabel('Accuracy')"
   ]
  },
  {
   "cell_type": "markdown",
   "id": "68e4bf5a",
   "metadata": {},
   "source": [
    "### Here for Euclidean distance we get highest accuracy at k=1 and as the K increases the test accuracy decreases\n",
    "\n",
    "### Applying Manhattan Distance"
   ]
  },
  {
   "cell_type": "code",
   "execution_count": 35,
   "id": "6f21eeef",
   "metadata": {},
   "outputs": [
    {
     "data": {
      "text/plain": [
       "0.8465201146086426"
      ]
     },
     "execution_count": 35,
     "metadata": {},
     "output_type": "execute_result"
    }
   ],
   "source": [
    "knnregressor = KNeighborsRegressor(n_neighbors=5,p=1,algorithm='ball_tree')\n",
    "knnregressor.fit(X_train, y_train)\n",
    "knnregressor.score(X_test,y_test)"
   ]
  },
  {
   "cell_type": "code",
   "execution_count": 36,
   "id": "a3db2c44",
   "metadata": {},
   "outputs": [
    {
     "data": {
      "text/plain": [
       "KNeighborsRegressor(algorithm='ball_tree', p=1)"
      ]
     },
     "execution_count": 36,
     "metadata": {},
     "output_type": "execute_result"
    }
   ],
   "source": [
    "knnregressor"
   ]
  },
  {
   "cell_type": "code",
   "execution_count": 37,
   "id": "960d1d08",
   "metadata": {},
   "outputs": [
    {
     "name": "stdout",
     "output_type": "stream",
     "text": [
      "[ 1  3  5  7  9 11 13 15 17 19 21 23 25 27 29 31 33 35 37 39 41 43 45 47\n",
      " 49 51 53 55 57 59 61 63 65 67 69 71 73 75 77 79 81 83 85 87 89 91 93 95\n",
      " 97 99]\n"
     ]
    }
   ],
   "source": [
    "k_values = np.arange(1,100,2)\n",
    "print(k_values)"
   ]
  },
  {
   "cell_type": "code",
   "execution_count": 38,
   "id": "d7865144",
   "metadata": {},
   "outputs": [
    {
     "name": "stdout",
     "output_type": "stream",
     "text": [
      "k=1, train_accuracy=100.00%, test_accuracy=96.33%\n",
      "k=3, train_accuracy=100.00%, test_accuracy=96.48%\n",
      "k=5, train_accuracy=100.00%, test_accuracy=94.90%\n",
      "k=7, train_accuracy=100.00%, test_accuracy=93.58%\n",
      "k=9, train_accuracy=100.00%, test_accuracy=93.19%\n",
      "k=11, train_accuracy=100.00%, test_accuracy=92.48%\n",
      "k=13, train_accuracy=100.00%, test_accuracy=91.38%\n",
      "k=15, train_accuracy=100.00%, test_accuracy=90.86%\n",
      "k=17, train_accuracy=100.00%, test_accuracy=90.18%\n",
      "k=19, train_accuracy=100.00%, test_accuracy=89.69%\n",
      "k=21, train_accuracy=100.00%, test_accuracy=89.02%\n",
      "k=23, train_accuracy=100.00%, test_accuracy=88.34%\n",
      "k=25, train_accuracy=100.00%, test_accuracy=88.16%\n",
      "k=27, train_accuracy=100.00%, test_accuracy=87.49%\n",
      "k=29, train_accuracy=100.00%, test_accuracy=87.29%\n",
      "k=31, train_accuracy=100.00%, test_accuracy=86.99%\n",
      "k=33, train_accuracy=100.00%, test_accuracy=86.69%\n",
      "k=35, train_accuracy=100.00%, test_accuracy=86.13%\n",
      "k=37, train_accuracy=100.00%, test_accuracy=85.61%\n",
      "k=39, train_accuracy=100.00%, test_accuracy=85.18%\n",
      "k=41, train_accuracy=100.00%, test_accuracy=84.96%\n",
      "k=43, train_accuracy=100.00%, test_accuracy=84.47%\n",
      "k=45, train_accuracy=100.00%, test_accuracy=84.10%\n",
      "k=47, train_accuracy=100.00%, test_accuracy=83.74%\n",
      "k=49, train_accuracy=100.00%, test_accuracy=83.37%\n",
      "k=51, train_accuracy=100.00%, test_accuracy=83.12%\n",
      "k=53, train_accuracy=100.00%, test_accuracy=82.77%\n",
      "k=55, train_accuracy=100.00%, test_accuracy=82.41%\n",
      "k=57, train_accuracy=100.00%, test_accuracy=81.96%\n",
      "k=59, train_accuracy=100.00%, test_accuracy=81.52%\n",
      "k=61, train_accuracy=100.00%, test_accuracy=81.07%\n",
      "k=63, train_accuracy=100.00%, test_accuracy=80.66%\n",
      "k=65, train_accuracy=100.00%, test_accuracy=80.34%\n",
      "k=67, train_accuracy=100.00%, test_accuracy=79.91%\n",
      "k=69, train_accuracy=100.00%, test_accuracy=79.48%\n",
      "k=71, train_accuracy=100.00%, test_accuracy=79.19%\n",
      "k=73, train_accuracy=100.00%, test_accuracy=78.80%\n",
      "k=75, train_accuracy=100.00%, test_accuracy=78.39%\n",
      "k=77, train_accuracy=100.00%, test_accuracy=77.94%\n",
      "k=79, train_accuracy=100.00%, test_accuracy=77.54%\n",
      "k=81, train_accuracy=100.00%, test_accuracy=77.16%\n",
      "k=83, train_accuracy=100.00%, test_accuracy=76.67%\n",
      "k=85, train_accuracy=100.00%, test_accuracy=76.26%\n",
      "k=87, train_accuracy=100.00%, test_accuracy=75.92%\n",
      "k=89, train_accuracy=100.00%, test_accuracy=75.49%\n",
      "k=91, train_accuracy=100.00%, test_accuracy=75.03%\n",
      "k=93, train_accuracy=100.00%, test_accuracy=74.66%\n",
      "k=95, train_accuracy=100.00%, test_accuracy=74.22%\n",
      "k=97, train_accuracy=100.00%, test_accuracy=73.75%\n",
      "k=99, train_accuracy=100.00%, test_accuracy=73.33%\n"
     ]
    }
   ],
   "source": [
    "train_score_arr = []\n",
    "val_score_arr = []\n",
    "\n",
    "for k in k_values:\n",
    "    \n",
    "    model = KNeighborsRegressor(n_neighbors=k,algorithm='ball_tree',weights='distance',p=1)\n",
    "    model.fit(X_train,y_train)\n",
    "    \n",
    "    # We evaluate the performance of model, for each k - value\n",
    "    train_score = model.score(X_train, y_train) \n",
    "    train_score_arr.append(train_score*100)\n",
    "    \n",
    "    val_score = model.score(X_test, y_test)\n",
    "    val_score_arr.append(val_score*100)\n",
    "    \n",
    "    print(\"k=%d, train_accuracy=%.2f%%, test_accuracy=%.2f%%\" % (k, train_score * 100, val_score*100))"
   ]
  },
  {
   "cell_type": "code",
   "execution_count": 39,
   "id": "8b56077c",
   "metadata": {},
   "outputs": [
    {
     "data": {
      "text/plain": [
       "Text(0, 0.5, 'Accuracy')"
      ]
     },
     "execution_count": 39,
     "metadata": {},
     "output_type": "execute_result"
    },
    {
     "data": {
      "image/png": "[encoded data removed]",
      "text/plain": [
       "<Figure size 864x576 with 1 Axes>"
      ]
     },
     "metadata": {
      "needs_background": "light"
     },
     "output_type": "display_data"
    }
   ],
   "source": [
    "d2=plt.figure(figsize=(12,8))\n",
    "plt.plot(k_values,train_score_arr,color=\"green\",linestyle=\"dotted\",marker=\"+\",markersize=10)\n",
    "plt.plot(k_values,val_score_arr,color=\"deepskyblue\",linestyle=\"dotted\",marker=\"+\",markersize=10)\n",
    "plt.title(\"acc vs diff k's\")\n",
    "plt.xlabel('K')\n",
    "plt.ylabel('Accuracy')"
   ]
  },
  {
   "cell_type": "markdown",
   "id": "d78003a0",
   "metadata": {},
   "source": [
    "#### Here in Manhattan distance also we can see that as the k increases the test accuracy decreases, and also the highest accuracy occured at k=1 and gradually decreases.\n",
    "\n",
    "# Applying Standardization"
   ]
  },
  {
   "cell_type": "code",
   "execution_count": 40,
   "id": "8f87b601",
   "metadata": {},
   "outputs": [],
   "source": [
    "sc = StandardScaler()\n",
    "X_train = sc.fit_transform(X_train)\n",
    "X_test = sc.transform(X_test)"
   ]
  },
  {
   "cell_type": "code",
   "execution_count": 41,
   "id": "b50df4b5",
   "metadata": {},
   "outputs": [],
   "source": [
    "from sklearn.neighbors import KNeighborsRegressor\n",
    "knnregressor = KNeighborsRegressor(n_neighbors=5,algorithm='ball_tree')\n",
    "knnregressor.fit(X_train, y_train)\n",
    "pr=knnregressor.predict(X_test)"
   ]
  },
  {
   "cell_type": "code",
   "execution_count": 42,
   "id": "b99dcbc6",
   "metadata": {},
   "outputs": [
    {
     "data": {
      "text/plain": [
       "0.8173449653902884"
      ]
     },
     "execution_count": 42,
     "metadata": {},
     "output_type": "execute_result"
    }
   ],
   "source": [
    "knnregressor.score(X_test,y_test)"
   ]
  },
  {
   "cell_type": "code",
   "execution_count": 43,
   "id": "a04a708f",
   "metadata": {},
   "outputs": [
    {
     "name": "stdout",
     "output_type": "stream",
     "text": [
      "[ 1  3  5  7  9 11 13 15 17 19 21 23 25 27 29 31 33 35 37 39 41 43 45 47\n",
      " 49 51 53 55 57 59 61 63 65 67 69 71 73 75 77 79 81 83 85 87 89 91 93 95\n",
      " 97 99]\n"
     ]
    }
   ],
   "source": [
    "k_values = np.arange(1,100,2)\n",
    "print(k_values)"
   ]
  },
  {
   "cell_type": "code",
   "execution_count": 44,
   "id": "b393cb0f",
   "metadata": {},
   "outputs": [
    {
     "name": "stdout",
     "output_type": "stream",
     "text": [
      "k=1, train_accuracy=100.00%, test_accuracy=93.17%\n",
      "k=3, train_accuracy=100.00%, test_accuracy=89.01%\n",
      "k=5, train_accuracy=100.00%, test_accuracy=89.47%\n",
      "k=7, train_accuracy=100.00%, test_accuracy=88.74%\n",
      "k=9, train_accuracy=100.00%, test_accuracy=87.45%\n",
      "k=11, train_accuracy=100.00%, test_accuracy=86.74%\n",
      "k=13, train_accuracy=100.00%, test_accuracy=86.24%\n",
      "k=15, train_accuracy=100.00%, test_accuracy=86.59%\n",
      "k=17, train_accuracy=100.00%, test_accuracy=86.93%\n",
      "k=19, train_accuracy=100.00%, test_accuracy=87.10%\n",
      "k=21, train_accuracy=100.00%, test_accuracy=86.97%\n",
      "k=23, train_accuracy=100.00%, test_accuracy=86.87%\n",
      "k=25, train_accuracy=100.00%, test_accuracy=86.68%\n",
      "k=27, train_accuracy=100.00%, test_accuracy=86.72%\n",
      "k=29, train_accuracy=100.00%, test_accuracy=86.74%\n",
      "k=31, train_accuracy=100.00%, test_accuracy=86.66%\n",
      "k=33, train_accuracy=100.00%, test_accuracy=86.70%\n",
      "k=35, train_accuracy=100.00%, test_accuracy=86.42%\n",
      "k=37, train_accuracy=100.00%, test_accuracy=86.08%\n",
      "k=39, train_accuracy=100.00%, test_accuracy=85.78%\n",
      "k=41, train_accuracy=100.00%, test_accuracy=85.47%\n",
      "k=43, train_accuracy=100.00%, test_accuracy=84.98%\n",
      "k=45, train_accuracy=100.00%, test_accuracy=84.63%\n",
      "k=47, train_accuracy=100.00%, test_accuracy=84.16%\n",
      "k=49, train_accuracy=100.00%, test_accuracy=83.63%\n",
      "k=51, train_accuracy=100.00%, test_accuracy=83.21%\n",
      "k=53, train_accuracy=100.00%, test_accuracy=82.76%\n",
      "k=55, train_accuracy=100.00%, test_accuracy=82.19%\n",
      "k=57, train_accuracy=100.00%, test_accuracy=81.70%\n",
      "k=59, train_accuracy=100.00%, test_accuracy=81.21%\n",
      "k=61, train_accuracy=100.00%, test_accuracy=80.71%\n",
      "k=63, train_accuracy=100.00%, test_accuracy=80.10%\n",
      "k=65, train_accuracy=100.00%, test_accuracy=79.71%\n",
      "k=67, train_accuracy=100.00%, test_accuracy=79.20%\n",
      "k=69, train_accuracy=100.00%, test_accuracy=78.84%\n",
      "k=71, train_accuracy=100.00%, test_accuracy=78.23%\n",
      "k=73, train_accuracy=100.00%, test_accuracy=77.74%\n",
      "k=75, train_accuracy=100.00%, test_accuracy=77.27%\n",
      "k=77, train_accuracy=100.00%, test_accuracy=76.67%\n",
      "k=79, train_accuracy=100.00%, test_accuracy=76.10%\n",
      "k=81, train_accuracy=100.00%, test_accuracy=75.46%\n",
      "k=83, train_accuracy=100.00%, test_accuracy=74.97%\n",
      "k=85, train_accuracy=100.00%, test_accuracy=74.45%\n",
      "k=87, train_accuracy=100.00%, test_accuracy=73.87%\n",
      "k=89, train_accuracy=100.00%, test_accuracy=73.31%\n",
      "k=91, train_accuracy=100.00%, test_accuracy=72.75%\n",
      "k=93, train_accuracy=100.00%, test_accuracy=72.24%\n",
      "k=95, train_accuracy=100.00%, test_accuracy=71.63%\n",
      "k=97, train_accuracy=100.00%, test_accuracy=71.15%\n",
      "k=99, train_accuracy=100.00%, test_accuracy=70.56%\n"
     ]
    }
   ],
   "source": [
    "train_score_arr = []\n",
    "val_score_arr = []\n",
    "\n",
    "for k in k_values:\n",
    "    \n",
    "    model = KNeighborsRegressor(n_neighbors=k,algorithm='ball_tree',p=1,weights='distance')\n",
    "    model.fit(X_train,y_train)\n",
    "    \n",
    "    # We evaluate the performance of model, for each k - value\n",
    "    train_score = model.score(X_train, y_train) \n",
    "    train_score_arr.append(train_score*100)\n",
    "    \n",
    "    val_score = model.score(X_test, y_test)\n",
    "    val_score_arr.append(val_score*100)\n",
    "    \n",
    "    print(\"k=%d, train_accuracy=%.2f%%, test_accuracy=%.2f%%\" % (k, train_score * 100, val_score*100))"
   ]
  },
  {
   "cell_type": "code",
   "execution_count": 45,
   "id": "aa4e867a",
   "metadata": {},
   "outputs": [
    {
     "data": {
      "text/plain": [
       "Text(0, 0.5, 'Accuracy')"
      ]
     },
     "execution_count": 45,
     "metadata": {},
     "output_type": "execute_result"
    },
    {
     "data": {
      "image/png": "[encoded data removed]",
      "text/plain": [
       "<Figure size 864x576 with 1 Axes>"
      ]
     },
     "metadata": {
      "needs_background": "light"
     },
     "output_type": "display_data"
    }
   ],
   "source": [
    "plt.figure(figsize=(12,8))\n",
    "plt.plot(k_values,train_score_arr,color=\"green\",linestyle=\"dotted\",marker=\"+\",markersize=10)\n",
    "plt.plot(k_values,val_score_arr,color=\"deepskyblue\",linestyle=\"dotted\",marker=\"+\",markersize=10)\n",
    "plt.title(\"acc vs diff k's\")\n",
    "plt.xlabel('K')\n",
    "plt.ylabel('Accuracy')"
   ]
  },
  {
   "cell_type": "markdown",
   "id": "3ab67201",
   "metadata": {},
   "source": [
    "#### After applying standardization the test accuracy dropped in minimal amount as compared to the test accuracy before where stanrdization was not applied"
   ]
  },
  {
   "cell_type": "markdown",
   "id": "87b0ad35",
   "metadata": {},
   "source": [
    "# "
   ]
  }
 ],
 "metadata": {
  "kernelspec": {
   "display_name": "Python 3",
   "language": "python",
   "name": "python3"
  },
  "language_info": {
   "codemirror_mode": {
    "name": "ipython",
    "version": 3
   },
   "file_extension": ".py",
   "mimetype": "text/x-python",
   "name": "python",
   "nbconvert_exporter": "python",
   "pygments_lexer": "ipython3",
   "version": "3.8.8"
  }
 },
 "nbformat": 4,
 "nbformat_minor": 5
}
